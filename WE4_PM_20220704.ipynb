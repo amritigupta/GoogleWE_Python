{
  "nbformat": 4,
  "nbformat_minor": 0,
  "metadata": {
    "colab": {
      "name": "WE4-PM-20220704.ipynb",
      "private_outputs": true,
      "provenance": [],
      "include_colab_link": true
    },
    "kernelspec": {
      "name": "python3",
      "display_name": "Python 3"
    },
    "language_info": {
      "name": "python"
    }
  },
  "cells": [
    {
      "cell_type": "markdown",
      "metadata": {
        "id": "view-in-github",
        "colab_type": "text"
      },
      "source": [
        "<a href=\"https://colab.research.google.com/github/amritigupta/GoogleWE_Python/blob/main/WE4_PM_20220704.ipynb\" target=\"_parent\"><img src=\"https://colab.research.google.com/assets/colab-badge.svg\" alt=\"Open In Colab\"/></a>"
      ]
    },
    {
      "cell_type": "markdown",
      "source": [
        "$18, 9, 28, 14, 7, 22, 11, 34, 17, 52, 26, 13, 40, 20, 10, 5, 16, 8, 4, 2, 1, 4, 2, 1$\n",
        "\n",
        "odd $\\rightarrow$ multiply by 3 and add 1\n",
        "\n",
        "even $\\rightarrow$ divide by 2\n",
        "\n",
        "input: integer\n",
        "\n",
        "output: the collatz sequence "
      ],
      "metadata": {
        "id": "JsMNvCl3icbO"
      }
    },
    {
      "cell_type": "code",
      "source": [
        "def next_collatz(n: int) -> int:\n",
        "    return n // 2 if n % 2 == 0 else 3 * n + 1"
      ],
      "metadata": {
        "id": "dWY-Ykoujs__"
      },
      "execution_count": null,
      "outputs": []
    },
    {
      "cell_type": "code",
      "source": [
        "def collatz_sequence1(n: int) -> list:\n",
        "    sequence = [n]\n",
        "    while sequence[-3:] != [4, 2, 1]:\n",
        "        n = next_collatz(n)\n",
        "        sequence.append(n)\n",
        "    return sequence"
      ],
      "metadata": {
        "id": "wBRfqaszo_QI"
      },
      "execution_count": null,
      "outputs": []
    },
    {
      "cell_type": "code",
      "source": [
        "collatz_sequence1(7)"
      ],
      "metadata": {
        "id": "LB-EfiwIpTg9"
      },
      "execution_count": null,
      "outputs": []
    },
    {
      "cell_type": "code",
      "source": [
        "def collatz_sequence2(n: int) -> list:\n",
        "    sequence = [n]\n",
        "    while sequence[-3:] != [4, 2, 1]:\n",
        "        n = next_collatz(n)\n",
        "        sequence.append(n)\n",
        "    return sequence"
      ],
      "metadata": {
        "id": "zZ_gvkKdpWAK"
      },
      "execution_count": null,
      "outputs": []
    },
    {
      "cell_type": "code",
      "source": [
        "[4, 1] in [4, 1, 1]"
      ],
      "metadata": {
        "id": "RgvpHQ7_qLXc"
      },
      "execution_count": null,
      "outputs": []
    },
    {
      "cell_type": "code",
      "source": [
        "4 in [4, 1, 1]"
      ],
      "metadata": {
        "id": "8cdi5gNBqO3g"
      },
      "execution_count": null,
      "outputs": []
    },
    {
      "cell_type": "code",
      "source": [
        "\"gh\" in \"tough\""
      ],
      "metadata": {
        "id": "n0BBsmVwqUzM"
      },
      "execution_count": null,
      "outputs": []
    },
    {
      "cell_type": "code",
      "source": [
        "collatz_sequence2(7)"
      ],
      "metadata": {
        "id": "-0Wif092qX0L"
      },
      "execution_count": null,
      "outputs": []
    },
    {
      "cell_type": "code",
      "source": [
        "collatz_sequence2(2)"
      ],
      "metadata": {
        "id": "nD4t6L8MqqDK"
      },
      "execution_count": null,
      "outputs": []
    },
    {
      "cell_type": "code",
      "source": [
        "def collatz_sequence3(n: int) -> list:\n",
        "    sequence = []\n",
        "    while n != 4:\n",
        "        sequence.append(n)\n",
        "        n = next_collatz(n)\n",
        "    return sequence + [4, 2, 1]"
      ],
      "metadata": {
        "id": "1mX3naXHqtkz"
      },
      "execution_count": null,
      "outputs": []
    },
    {
      "cell_type": "code",
      "source": [
        "collatz_sequence3(2)"
      ],
      "metadata": {
        "id": "eS67A6WfrZfJ"
      },
      "execution_count": null,
      "outputs": []
    },
    {
      "cell_type": "code",
      "source": [
        "collatz_sequence3(7)"
      ],
      "metadata": {
        "id": "IhBLODmfrb62"
      },
      "execution_count": null,
      "outputs": []
    },
    {
      "cell_type": "code",
      "source": [
        "def collatz_sequence4(n: int) -> list:\n",
        "    if n == 4:\n",
        "        return [4, 2, 1]\n",
        "    else:\n",
        "        return [n] + collatz_sequence4(next_collatz(n))"
      ],
      "metadata": {
        "id": "2PeM87QWreqQ"
      },
      "execution_count": null,
      "outputs": []
    },
    {
      "cell_type": "code",
      "source": [
        "collatz_sequence4(7)"
      ],
      "metadata": {
        "id": "6cZnAMj8rw-9"
      },
      "execution_count": null,
      "outputs": []
    },
    {
      "cell_type": "code",
      "source": [
        ""
      ],
      "metadata": {
        "id": "DTYCFPNFr1g-"
      },
      "execution_count": null,
      "outputs": []
    }
  ]
}