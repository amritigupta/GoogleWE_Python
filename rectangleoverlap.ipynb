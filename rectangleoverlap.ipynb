{
  "nbformat": 4,
  "nbformat_minor": 0,
  "metadata": {
    "colab": {
      "name": "rectangleoverlap.ipynb",
      "provenance": [],
      "authorship_tag": "ABX9TyMDy+iBuAqLkYxHN5f/P+UT",
      "include_colab_link": true
    },
    "kernelspec": {
      "name": "python3",
      "display_name": "Python 3"
    },
    "language_info": {
      "name": "python"
    }
  },
  "cells": [
    {
      "cell_type": "markdown",
      "metadata": {
        "id": "view-in-github",
        "colab_type": "text"
      },
      "source": [
        "<a href=\"https://colab.research.google.com/github/amritigupta/GoogleWE_Python/blob/main/rectangleoverlap.ipynb\" target=\"_parent\"><img src=\"https://colab.research.google.com/assets/colab-badge.svg\" alt=\"Open In Colab\"/></a>"
      ]
    },
    {
      "cell_type": "code",
      "execution_count": 13,
      "metadata": {
        "colab": {
          "base_uri": "https://localhost:8080/"
        },
        "id": "5KfyIY5_1u8Q",
        "outputId": "65f74e8c-1838-477b-9494-a5522dc62da7"
      },
      "outputs": [
        {
          "output_type": "stream",
          "name": "stdout",
          "text": [
            "True\n",
            "False\n",
            "False\n"
          ]
        }
      ],
      "source": [
        "def isrectangleoverlap(rec1:list , rec2:list) -> bool:\n",
        "    bottomleft1=[rec1[0], rec1[1]]\n",
        "    topright1=[rec1[2], rec1[3]]\n",
        "    topleft1=[rec1[0],rec1[3]]\n",
        "    bottomright1=[rec1[2],rec1[1]]\n",
        "\n",
        "    #x axis lies between rec1[1] and rec1[3]\n",
        "    #y axis lies between rec1[2] and rec1[0]\n",
        " \n",
        "    bottomleft2=[rec2[0], rec2[1]]\n",
        "    topright2=[rec2[2], rec2[3]]\n",
        "    topleft2=[rec2[0],rec2[3]]\n",
        "    bottomright2=[rec2[2],rec2[1]]\n",
        "\n",
        "    l=[bottomleft2, topright2, topleft2, bottomright2]\n",
        "    i=0\n",
        "    for i in range(len(l)):\n",
        "        if ((rec1[0]<(l[i][0])<rec1[2]) or (rec1[2]<(l[i][0])<rec1[0]) and (rec1[1]<l[i][1]<rec1[3] or rec1[3]<l[i][1]<rec1[1])):\n",
        "            return True\n",
        "            break;\n",
        "    return False\n",
        "print(isrectangleoverlap([0,0,2,2],[1,1,3,3]))\n",
        "print(isrectangleoverlap([0,0,1,1],[1,0,2,1]))\n",
        "print(isrectangleoverlap([0,0,1,1],[2,2,3,3]))"
      ]
    }
  ]
}