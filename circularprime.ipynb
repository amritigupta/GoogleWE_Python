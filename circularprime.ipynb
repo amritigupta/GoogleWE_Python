{
  "nbformat": 4,
  "nbformat_minor": 0,
  "metadata": {
    "colab": {
      "name": "circularprime.ipynb",
      "provenance": [],
      "authorship_tag": "ABX9TyMBoGq0r+236Fyf4KVwhA9N",
      "include_colab_link": true
    },
    "kernelspec": {
      "name": "python3",
      "display_name": "Python 3"
    },
    "language_info": {
      "name": "python"
    }
  },
  "cells": [
    {
      "cell_type": "markdown",
      "metadata": {
        "id": "view-in-github",
        "colab_type": "text"
      },
      "source": [
        "<a href=\"https://colab.research.google.com/github/amritigupta/GoogleWE_Python/blob/main/circularprime.ipynb\" target=\"_parent\"><img src=\"https://colab.research.google.com/assets/colab-badge.svg\" alt=\"Open In Colab\"/></a>"
      ]
    },
    {
      "cell_type": "code",
      "execution_count": 66,
      "metadata": {
        "id": "Xpmp1hFJIyjA",
        "colab": {
          "base_uri": "https://localhost:8080/"
        },
        "outputId": "2de270e0-ea70-4e81-9b40-dec9c07343b6"
      },
      "outputs": [
        {
          "output_type": "stream",
          "name": "stdout",
          "text": [
            "True\n",
            "True\n"
          ]
        }
      ],
      "source": [
        "def iscircprime(n):\n",
        "        newnum=n\n",
        "        i=1\n",
        "        while i>0: \n",
        "            if isprime(newnum):\n",
        "                l=[str(e) for e in (str(newnum))]\n",
        "                i=0\n",
        "                dummy=l[0]\n",
        "                for i in range(0,len(l)):\n",
        "                    if (i==(len(l)-1)):\n",
        "                        l[i]=dummy\n",
        "                    elif (i<len(l)-1): \n",
        "                        l[i]=l[i+1]\n",
        "                    i=i+1\n",
        "                newnum=int(''.join(l))\n",
        "                if newnum==n:\n",
        "                    return True\n",
        "                    break;\n",
        "                i=i+1\n",
        "            else:\n",
        "                return False\n",
        "            \n",
        "\n",
        "def isprime(n):\n",
        "    if n<2:\n",
        "        return False\n",
        "    for i in range(2,n//2+1):\n",
        "        if ((n%i)==0):\n",
        "            return False\n",
        "    return True\n",
        "\n",
        "print(iscircprime(311))\n",
        "print(iscircprime(1193))"
      ]
    }
  ]
}