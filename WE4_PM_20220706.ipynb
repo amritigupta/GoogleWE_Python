{
  "nbformat": 4,
  "nbformat_minor": 0,
  "metadata": {
    "colab": {
      "name": "WE4-PM-20220706.ipynb",
      "private_outputs": true,
      "provenance": [],
      "include_colab_link": true
    },
    "kernelspec": {
      "name": "python3",
      "display_name": "Python 3"
    },
    "language_info": {
      "name": "python"
    }
  },
  "cells": [
    {
      "cell_type": "markdown",
      "metadata": {
        "id": "view-in-github",
        "colab_type": "text"
      },
      "source": [
        "<a href=\"https://colab.research.google.com/github/amritigupta/GoogleWE_Python/blob/main/WE4_PM_20220706.ipynb\" target=\"_parent\"><img src=\"https://colab.research.google.com/assets/colab-badge.svg\" alt=\"Open In Colab\"/></a>"
      ]
    },
    {
      "cell_type": "markdown",
      "source": [
        "# Problem 1\n",
        "\n",
        "## FizzBuzz\n",
        "\n",
        "input: N\n",
        "\n",
        "output: a list of N - 1 strings: one of \"FIZZ\", \"BUZZ\", \"FIZZBUZZ\", number"
      ],
      "metadata": {
        "id": "zncbwaZ10NFg"
      }
    },
    {
      "cell_type": "code",
      "source": [
        "def make_fizzbuzz(n: int) -> list:\n",
        "    return [fizzbuzz(i) for i in range(1, n)]"
      ],
      "metadata": {
        "id": "nMFDK2_w4PuO"
      },
      "execution_count": null,
      "outputs": []
    },
    {
      "cell_type": "code",
      "source": [
        "def fizzbuzz1(n: int) -> str:\n",
        "    if n % 3 == 0:\n",
        "        return \"FIZZ\"\n",
        "    if n % 5 == 0:\n",
        "        return \"BUZZ\"\n",
        "    if n % 15 == 0:\n",
        "        return \"FIZZBUZZ\"\n",
        "    return str(n)"
      ],
      "metadata": {
        "id": "P5OfI_-24X5P"
      },
      "execution_count": null,
      "outputs": []
    },
    {
      "cell_type": "code",
      "source": [
        "def fizzbuzz2(n: int) -> str:\n",
        "    if n % 15 == 0:\n",
        "        return \"FIZZBUZZ\"\n",
        "    if n % 5 == 0:\n",
        "        return \"BUZZ\"\n",
        "    if n % 3 == 0:\n",
        "        return \"FIZZ\"\n",
        "    return str(n)"
      ],
      "metadata": {
        "id": "FAWrNtct4tp7"
      },
      "execution_count": null,
      "outputs": []
    },
    {
      "cell_type": "code",
      "source": [
        "def fizzbuzz3(n: int) -> str:\n",
        "    fb = \"\"\n",
        "    if n % 3 == 0:\n",
        "        fb += \"FIZZ\"\n",
        "    if n % 5 == 0:\n",
        "        fb += \"BUZZ\"\n",
        "    if fb == \"\":\n",
        "        return str(n)\n",
        "    else:\n",
        "        return fb"
      ],
      "metadata": {
        "id": "vCpVHo8m45dz"
      },
      "execution_count": null,
      "outputs": []
    },
    {
      "cell_type": "code",
      "source": [
        "def fizzbuzz4(n: int) -> str:\n",
        "    fbs = [\"FIZZBUZZ\", \"\", \"\", \"FIZZ\", \"\", \"BUZZ\", \"FIZZ\", \"\", \"\", \"FIZZ\", \"BUZZ\", \"\", \"FIZZ\", \"\", \"\"]\n",
        "    position = n % 15\n",
        "    if fbs[position] == \"\":\n",
        "        return str(n)\n",
        "    else:\n",
        "        return fbs[position]"
      ],
      "metadata": {
        "id": "3puni7wx5wU1"
      },
      "execution_count": null,
      "outputs": []
    },
    {
      "cell_type": "code",
      "source": [
        "def fizzbuzz5(n: int) -> str:\n",
        "    fbs = {(True, True): \"FIZZBUZZ\", \n",
        "           (True, False): \"BUZZ\", \n",
        "           (False, True): \"FIZZ\", \n",
        "           (False, False): str(n)}\n",
        "\n",
        "    return fbs[(n % 5 == 0, n % 3 == 0)]"
      ],
      "metadata": {
        "id": "ftnsRX9S7YiY"
      },
      "execution_count": null,
      "outputs": []
    },
    {
      "cell_type": "code",
      "source": [
        "def pick(n: int) -> int:\n",
        "    return 2 * int(n % 5 == 0) + int(n % 3 == 0)\n",
        "\n",
        "def fizzbuzz6(n: int) -> str:\n",
        "    return [str(n), \"FIZZ\", \"BUZZ\", \"FIZZBUZZ\"][pick(n)]"
      ],
      "metadata": {
        "id": "xA17tdWI8gho"
      },
      "execution_count": null,
      "outputs": []
    },
    {
      "cell_type": "code",
      "source": [
        "def make_fb2(n: int) -> list:\n",
        "    fbs = [str(n) for n in range(n)]\n",
        "    fbs[::3] = [\"FIZZ\"] * len(fbs[::3])\n",
        "    fbs[::5] = [\"BUZZ\"] * len(fbs[::5])\n",
        "    fbs[::15] = [\"FIZZBUZZ\"] * len(fbs[::15])\n",
        "    return fbs[1:]"
      ],
      "metadata": {
        "id": "V9pTz1eJ_HG5"
      },
      "execution_count": null,
      "outputs": []
    },
    {
      "cell_type": "code",
      "source": [
        "aa = ['a', 'b', 1, 2, 3, 4]\n",
        "aa[::2]"
      ],
      "metadata": {
        "id": "gHtQydA3AV8n"
      },
      "execution_count": null,
      "outputs": []
    },
    {
      "cell_type": "code",
      "source": [
        "aa[::2] = ['x', 'y', 'z']"
      ],
      "metadata": {
        "id": "qQU3SRWYAjb0"
      },
      "execution_count": null,
      "outputs": []
    },
    {
      "cell_type": "code",
      "source": [
        "aa"
      ],
      "metadata": {
        "id": "SsTvtQ4DAoYT"
      },
      "execution_count": null,
      "outputs": []
    },
    {
      "cell_type": "code",
      "source": [
        "aa[::2] = ['x']"
      ],
      "metadata": {
        "id": "rV8inQWIAo1M"
      },
      "execution_count": null,
      "outputs": []
    },
    {
      "cell_type": "code",
      "source": [
        "aa"
      ],
      "metadata": {
        "id": "nw06Vq7PA1Yo"
      },
      "execution_count": null,
      "outputs": []
    },
    {
      "cell_type": "markdown",
      "source": [
        "# Fair rations"
      ],
      "metadata": {
        "id": "5cQjX7ynA2TM"
      }
    },
    {
      "cell_type": "code",
      "source": [
        "def fair_rations(loaves: list) -> int:\n",
        "    if sum(loaves) % 2 == 1:\n",
        "        return -1\n",
        "    return fairrations(loaves)"
      ],
      "metadata": {
        "id": "6Fqld_FyJ7gT"
      },
      "execution_count": null,
      "outputs": []
    },
    {
      "cell_type": "code",
      "source": [
        "def fairrations(loaves: list) -> int:\n",
        "    if len(loaves) == 0:\n",
        "        return 0\n",
        "    if loaves[0] % 2 == 0:\n",
        "        return fairrations(loaves[1:])\n",
        "    else:\n",
        "        return 2 + fairrations([loaves[1] + 1] + loaves[2:])"
      ],
      "metadata": {
        "id": "SgGYDhfDKMZu"
      },
      "execution_count": null,
      "outputs": []
    },
    {
      "cell_type": "code",
      "source": [
        "fair_rations([4, 5, 7, 8])"
      ],
      "metadata": {
        "id": "N7wb_ncuLY-_"
      },
      "execution_count": null,
      "outputs": []
    },
    {
      "cell_type": "code",
      "source": [
        "fair_rations([4, 5, 2, 7, 8])"
      ],
      "metadata": {
        "id": "QsvYSwBjMwD5"
      },
      "execution_count": null,
      "outputs": []
    },
    {
      "cell_type": "code",
      "source": [
        "fair_rations([4, 5, 6, 7, 8])"
      ],
      "metadata": {
        "id": "mWrlmoQKM7kq"
      },
      "execution_count": null,
      "outputs": []
    },
    {
      "cell_type": "markdown",
      "source": [
        "OEEEO => 2 + EOEEO\n",
        "\n",
        "OEEEOEEEEEO"
      ],
      "metadata": {
        "id": "1hSaQ1R2NBlj"
      }
    },
    {
      "cell_type": "code",
      "source": [
        "a = \"OEEEOEEEEOEO\""
      ],
      "metadata": {
        "id": "MUV6QZFKOQ_W"
      },
      "execution_count": null,
      "outputs": []
    },
    {
      "cell_type": "code",
      "source": [
        "a.split('O')"
      ],
      "metadata": {
        "id": "v_H8kEpHO2SI"
      },
      "execution_count": null,
      "outputs": []
    },
    {
      "cell_type": "code",
      "source": [
        "a.split('O')[1::2]"
      ],
      "metadata": {
        "id": "96Wr8SUzO36E"
      },
      "execution_count": null,
      "outputs": []
    },
    {
      "cell_type": "code",
      "source": [
        "sum(2 + 2 * len(es) for es in a.split('O')[1::2])"
      ],
      "metadata": {
        "id": "GjA0dbuxPAaZ"
      },
      "execution_count": null,
      "outputs": []
    },
    {
      "cell_type": "code",
      "source": [
        ""
      ],
      "metadata": {
        "id": "rAaWO0F7PXrY"
      },
      "execution_count": null,
      "outputs": []
    }
  ]
}