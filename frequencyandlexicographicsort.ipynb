{
  "nbformat": 4,
  "nbformat_minor": 0,
  "metadata": {
    "colab": {
      "name": "frequencyandlexicographicsort.ipynb",
      "provenance": [],
      "authorship_tag": "ABX9TyNh++fhwy500Ui5zMH27Aci",
      "include_colab_link": true
    },
    "kernelspec": {
      "name": "python3",
      "display_name": "Python 3"
    },
    "language_info": {
      "name": "python"
    }
  },
  "cells": [
    {
      "cell_type": "markdown",
      "metadata": {
        "id": "view-in-github",
        "colab_type": "text"
      },
      "source": [
        "<a href=\"https://colab.research.google.com/github/amritigupta/GoogleWE_Python/blob/main/frequencyandlexicographicsort.ipynb\" target=\"_parent\"><img src=\"https://colab.research.google.com/assets/colab-badge.svg\" alt=\"Open In Colab\"/></a>"
      ]
    },
    {
      "cell_type": "code",
      "execution_count": 4,
      "metadata": {
        "colab": {
          "base_uri": "https://localhost:8080/"
        },
        "id": "GKgHVKusFGLa",
        "outputId": "66d50c67-ac5b-4deb-daa0-799237c15c77"
      },
      "outputs": [
        {
          "output_type": "stream",
          "name": "stdout",
          "text": [
            "bbbaacc\n",
            "aaccddAb\n",
            "AAEEGGbbccaf\n"
          ]
        }
      ],
      "source": [
        "def frequencysort(s):\n",
        "    l=list(s)\n",
        "    l.sort()\n",
        "    i=0\n",
        "    counts=[]\n",
        "    l1=[]\n",
        "    d={} #dictionary\n",
        "    for i in range(len(l)):\n",
        "        if l[i] not in l1:\n",
        "            l1.append(l[i])\n",
        "            x=l.count(l[i])\n",
        "            counts.append(l.count(l[i]))\n",
        "            d[l[i]]=x\n",
        "        i=i+1\n",
        "    keys=list(d.keys())\n",
        "    dictvalues=[]\n",
        "    for ch in keys:\n",
        "        dictvalues.append(d.get(ch))\n",
        "    p=max(counts)\n",
        "    finallist=[]\n",
        "    while p>0:\n",
        "        for z in range(len(dictvalues)):\n",
        "            if dictvalues[z]==p:\n",
        "                y=0\n",
        "                for y in range(counts[z]):\n",
        "                    finallist.append(keys[z])\n",
        "                    y=y+1\n",
        "            z=z+1\n",
        "        p=p-1\n",
        "    finalstr=str(''.join(finallist))\n",
        "    return finalstr\n",
        "\n",
        "print(frequencysort('aaccbbb'))\n",
        "print(frequencysort('Aaabccdd'))\n",
        "print(frequencysort('AAbbccEEfGGa'))"
      ]
    }
  ]
}