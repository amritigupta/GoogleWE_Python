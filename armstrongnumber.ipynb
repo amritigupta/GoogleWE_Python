{
  "nbformat": 4,
  "nbformat_minor": 0,
  "metadata": {
    "colab": {
      "name": "armstrongnumber.ipynb",
      "provenance": [],
      "authorship_tag": "ABX9TyOfDBzr/56R3bGJv6iqQbwX",
      "include_colab_link": true
    },
    "kernelspec": {
      "name": "python3",
      "display_name": "Python 3"
    },
    "language_info": {
      "name": "python"
    }
  },
  "cells": [
    {
      "cell_type": "markdown",
      "metadata": {
        "id": "view-in-github",
        "colab_type": "text"
      },
      "source": [
        "<a href=\"https://colab.research.google.com/github/amritigupta/GoogleWE_Python/blob/main/armstrongnumber.ipynb\" target=\"_parent\"><img src=\"https://colab.research.google.com/assets/colab-badge.svg\" alt=\"Open In Colab\"/></a>"
      ]
    },
    {
      "cell_type": "code",
      "execution_count": 13,
      "metadata": {
        "colab": {
          "base_uri": "https://localhost:8080/"
        },
        "id": "YnL6wWIwymcI",
        "outputId": "6a5850a1-bf3b-41fb-faba-085cf31b2113"
      },
      "outputs": [
        {
          "output_type": "stream",
          "name": "stdout",
          "text": [
            "True\n",
            "True\n"
          ]
        }
      ],
      "source": [
        "def armstrong(n):\n",
        "    count=0\n",
        "    p=n\n",
        "    while p>0:\n",
        "        count+=1\n",
        "        p=p//10\n",
        "    sum=0\n",
        "    i=0\n",
        "    for i in range(count):\n",
        "        sum+=(n%10)**count\n",
        "        n=n//10\n",
        "        i=i+1\n",
        "    return sum\n",
        "\n",
        "def checkarmstrong(n):\n",
        "    if (armstrong(n)==n):\n",
        "        return True\n",
        "    return False\n",
        "print(checkarmstrong(54748))\n",
        "print(checkarmstrong(1))"
      ]
    }
  ]
}