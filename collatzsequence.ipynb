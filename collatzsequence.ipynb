{
  "nbformat": 4,
  "nbformat_minor": 0,
  "metadata": {
    "colab": {
      "name": "collatzsequence.ipynb",
      "provenance": [],
      "authorship_tag": "ABX9TyOcby19e6Je7DhKHNvEFs+B",
      "include_colab_link": true
    },
    "kernelspec": {
      "name": "python3",
      "display_name": "Python 3"
    },
    "language_info": {
      "name": "python"
    }
  },
  "cells": [
    {
      "cell_type": "markdown",
      "metadata": {
        "id": "view-in-github",
        "colab_type": "text"
      },
      "source": [
        "<a href=\"https://colab.research.google.com/github/amritigupta/GoogleWE_Python/blob/main/collatzsequence.ipynb\" target=\"_parent\"><img src=\"https://colab.research.google.com/assets/colab-badge.svg\" alt=\"Open In Colab\"/></a>"
      ]
    },
    {
      "cell_type": "code",
      "execution_count": 15,
      "metadata": {
        "id": "6aGGBRY4iNgO"
      },
      "outputs": [],
      "source": [
        "def nextcollatz(n):\n",
        "    return n//2 if n%2==0 else 3*n+1\n",
        "\n",
        "def collatz(n):\n",
        "    sequence=[n]\n",
        "    while sequence[-3:]!=[4,2,1]:\n",
        "        n=nextcollatz(n)\n",
        "        sequence.append(n)\n",
        "    return sequence"
      ]
    },
    {
      "cell_type": "code",
      "source": [
        "print(collatz(2))"
      ],
      "metadata": {
        "colab": {
          "base_uri": "https://localhost:8080/"
        },
        "id": "hFNPxvuamYDI",
        "outputId": "1edf65eb-0059-414e-cf5c-4a17382e9136"
      },
      "execution_count": 17,
      "outputs": [
        {
          "output_type": "stream",
          "name": "stdout",
          "text": [
            "[2, 1, 4, 2, 1]\n"
          ]
        }
      ]
    }
  ]
}