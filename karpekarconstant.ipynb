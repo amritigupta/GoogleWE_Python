{
  "nbformat": 4,
  "nbformat_minor": 0,
  "metadata": {
    "colab": {
      "name": "karpekarconstant.ipynb",
      "provenance": [],
      "authorship_tag": "ABX9TyPB8LQDRpOSPV89fSRnw6Vm",
      "include_colab_link": true
    },
    "kernelspec": {
      "name": "python3",
      "display_name": "Python 3"
    },
    "language_info": {
      "name": "python"
    }
  },
  "cells": [
    {
      "cell_type": "markdown",
      "metadata": {
        "id": "view-in-github",
        "colab_type": "text"
      },
      "source": [
        "<a href=\"https://colab.research.google.com/github/amritigupta/GoogleWE_Python/blob/main/karpekarconstant.ipynb\" target=\"_parent\"><img src=\"https://colab.research.google.com/assets/colab-badge.svg\" alt=\"Open In Colab\"/></a>"
      ]
    },
    {
      "cell_type": "code",
      "execution_count": 11,
      "metadata": {
        "id": "BtoRktm0qo7W"
      },
      "outputs": [],
      "source": [
        "def largest(n):\n",
        "    return int(''.join(sorted(str(n), reverse=True)))"
      ]
    },
    {
      "cell_type": "code",
      "source": [
        "def smallest(n: int) -> int:\n",
        "    return int(''.join(sorted(str(n))))"
      ],
      "metadata": {
        "id": "xfZ2Dd9VwVsD"
      },
      "execution_count": 12,
      "outputs": []
    },
    {
      "cell_type": "code",
      "source": [
        "def nextkarpekar(n):\n",
        "    return largest(n) - smallest(n)"
      ],
      "metadata": {
        "id": "Tw3QyilgwfGS"
      },
      "execution_count": 13,
      "outputs": []
    },
    {
      "cell_type": "code",
      "source": [
        "def karpekar(n):\n",
        "    l=[n]\n",
        "    while n!=6174:\n",
        "        n=nextkarpekar(n)\n",
        "        l.append(n)\n",
        "    return l"
      ],
      "metadata": {
        "id": "DTqNSrlhWizh"
      },
      "execution_count": 19,
      "outputs": []
    },
    {
      "cell_type": "code",
      "source": [
        "karpekar(7929)"
      ],
      "metadata": {
        "colab": {
          "base_uri": "https://localhost:8080/"
        },
        "id": "d53eQ9vzWFzd",
        "outputId": "8bcaa841-c9d8-4775-a993-9d63e63d0d83"
      },
      "execution_count": 20,
      "outputs": [
        {
          "output_type": "execute_result",
          "data": {
            "text/plain": [
              "[7929, 7173, 6354, 3087, 8352, 6174]"
            ]
          },
          "metadata": {},
          "execution_count": 20
        }
      ]
    }
  ]
}