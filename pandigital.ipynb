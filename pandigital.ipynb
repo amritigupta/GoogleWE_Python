{
  "nbformat": 4,
  "nbformat_minor": 0,
  "metadata": {
    "colab": {
      "name": "pandigital.ipynb",
      "provenance": [],
      "collapsed_sections": [],
      "authorship_tag": "ABX9TyNW4d4K0dKiIHHsMO3kEH5v",
      "include_colab_link": true
    },
    "kernelspec": {
      "name": "python3",
      "display_name": "Python 3"
    },
    "language_info": {
      "name": "python"
    }
  },
  "cells": [
    {
      "cell_type": "markdown",
      "metadata": {
        "id": "view-in-github",
        "colab_type": "text"
      },
      "source": [
        "<a href=\"https://colab.research.google.com/github/amritigupta/GoogleWE_Python/blob/main/pandigital.ipynb\" target=\"_parent\"><img src=\"https://colab.research.google.com/assets/colab-badge.svg\" alt=\"Open In Colab\"/></a>"
      ]
    },
    {
      "cell_type": "code",
      "source": [
        "def ispandigital(n):\n",
        "    s=str(n)\n",
        "    numbers=\"0123456789\"\n",
        "    l=list(numbers)\n",
        "    p=0\n",
        "    for i in range(0,10):\n",
        "        if l[i] in s:\n",
        "            p+=1\n",
        "    if (p==10):\n",
        "        return True\n",
        "    return False\n",
        "print(ispandigital(98140723568910)) \n",
        "print(ispandigital(908645231489097))\n",
        "print(ispandigital(112233445566778899))"
      ],
      "metadata": {
        "colab": {
          "base_uri": "https://localhost:8080/"
        },
        "id": "7f26J3YE1_5T",
        "outputId": "f553d71f-ef60-42a1-dbe8-dd6e5c0a85c5"
      },
      "execution_count": 2,
      "outputs": [
        {
          "output_type": "stream",
          "name": "stdout",
          "text": [
            "True\n",
            "True\n",
            "False\n"
          ]
        }
      ]
    }
  ]
}