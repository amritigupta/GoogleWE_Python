{
  "nbformat": 4,
  "nbformat_minor": 0,
  "metadata": {
    "colab": {
      "name": "pandigital.ipynb",
      "provenance": [],
      "collapsed_sections": []
    },
    "kernelspec": {
      "name": "python3",
      "display_name": "Python 3"
    },
    "language_info": {
      "name": "python"
    }
  },
  "cells": [
    {
      "cell_type": "code",
      "source": [
        "def ispandigital(n):\n",
        "    s=str(n)\n",
        "    l=list(s)\n",
        "    p=0\n",
        "    for i in range(0,10):\n",
        "        x=str(i)\n",
        "        if x in l: \n",
        "            p+=1\n",
        "        i+=1\n",
        "    if p==10:\n",
        "        return True\n",
        "    else: \n",
        "        return False\n",
        "\n",
        "print(ispandigital(98140723568910)) \n",
        "print(ispandigital(90864523148909))\n",
        "print(ispandigital(112233445566778899))"
      ],
      "metadata": {
        "colab": {
          "base_uri": "https://localhost:8080/"
        },
        "id": "7f26J3YE1_5T",
        "outputId": "6ffc6043-bfee-4a88-ed66-a207f02c8b46"
      },
      "execution_count": null,
      "outputs": [
        {
          "output_type": "stream",
          "name": "stdout",
          "text": [
            "True\n",
            "False\n",
            "False\n"
          ]
        }
      ]
    }
  ]
}