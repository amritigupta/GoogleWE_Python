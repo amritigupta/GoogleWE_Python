{
  "nbformat": 4,
  "nbformat_minor": 0,
  "metadata": {
    "colab": {
      "name": "reverseanumber.ipynb",
      "provenance": [],
      "authorship_tag": "ABX9TyOZU70FttSD4ezIcBahEtn5",
      "include_colab_link": true
    },
    "kernelspec": {
      "name": "python3",
      "display_name": "Python 3"
    },
    "language_info": {
      "name": "python"
    }
  },
  "cells": [
    {
      "cell_type": "markdown",
      "metadata": {
        "id": "view-in-github",
        "colab_type": "text"
      },
      "source": [
        "<a href=\"https://colab.research.google.com/github/amritigupta/GoogleWE_Python/blob/main/reverseanumber.ipynb\" target=\"_parent\"><img src=\"https://colab.research.google.com/assets/colab-badge.svg\" alt=\"Open In Colab\"/></a>"
      ]
    },
    {
      "cell_type": "markdown",
      "source": [
        "Print reverse of a number.\n",
        "Check whether a number is palindrome or not.\n",
        "Find the next palindrome."
      ],
      "metadata": {
        "id": "1z-MFwvBjaXR"
      }
    },
    {
      "cell_type": "code",
      "execution_count": 30,
      "metadata": {
        "colab": {
          "base_uri": "https://localhost:8080/"
        },
        "id": "v6sGzQR-dWU9",
        "outputId": "35ec3e28-a14c-4938-d0a9-cd8ccfbcdd26"
      },
      "outputs": [
        {
          "output_type": "execute_result",
          "data": {
            "text/plain": [
              "4224"
            ]
          },
          "metadata": {},
          "execution_count": 30
        }
      ],
      "source": [
        "def reverse(n):\n",
        "    rev=0\n",
        "    while n>0:\n",
        "           rev=rev*10+(n%10)\n",
        "           n=n//10\n",
        "    return rev\n",
        "\n",
        "def checkpal(n):\n",
        "    if n==reverse(n):\n",
        "        return True\n",
        "    return False\n",
        "\n",
        "def nextpal(n):\n",
        "    i=n+1\n",
        "    while i>0:\n",
        "        if (i==reverse(i)):\n",
        "            return i\n",
        "        i=i+1\n",
        "\n",
        "print(reverse(1234))\n",
        "print(checkpal(4224))\n",
        "print(nextpal(4221))"
      ]
    }
  ]
}