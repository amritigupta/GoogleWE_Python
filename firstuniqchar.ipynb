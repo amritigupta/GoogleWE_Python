{
  "nbformat": 4,
  "nbformat_minor": 0,
  "metadata": {
    "colab": {
      "name": "firstuniqchar.ipynb",
      "provenance": [],
      "authorship_tag": "ABX9TyPjWb1x3uG5FjT9is6gYVld",
      "include_colab_link": true
    },
    "kernelspec": {
      "name": "python3",
      "display_name": "Python 3"
    },
    "language_info": {
      "name": "python"
    }
  },
  "cells": [
    {
      "cell_type": "markdown",
      "metadata": {
        "id": "view-in-github",
        "colab_type": "text"
      },
      "source": [
        "<a href=\"https://colab.research.google.com/github/amritigupta/GoogleWE_Python/blob/main/firstuniqchar.ipynb\" target=\"_parent\"><img src=\"https://colab.research.google.com/assets/colab-badge.svg\" alt=\"Open In Colab\"/></a>"
      ]
    },
    {
      "cell_type": "code",
      "execution_count": null,
      "metadata": {
        "id": "JpiI1QV84vtN"
      },
      "outputs": [],
      "source": [
        "def firstuniqchar(s):\n",
        "    l=list(s)\n",
        "    nonrep=[]\n",
        "    i=0\n",
        "    for i in range(len(l)):\n",
        "        if (l.count(l[i])==1):\n",
        "            nonrep.append(l[i])\n",
        "        i=i+1\n",
        "    if (nonrep==[]):\n",
        "        return -1\n",
        "    else:\n",
        "        return l.index(nonrep[0])"
      ]
    }
  ]
}