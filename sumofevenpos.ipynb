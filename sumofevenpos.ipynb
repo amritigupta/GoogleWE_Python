{
  "nbformat": 4,
  "nbformat_minor": 0,
  "metadata": {
    "colab": {
      "name": "sumofevenpos.ipynb",
      "provenance": [],
      "authorship_tag": "ABX9TyOset5hKczIn+fQsQaTcYIx",
      "include_colab_link": true
    },
    "kernelspec": {
      "name": "python3",
      "display_name": "Python 3"
    },
    "language_info": {
      "name": "python"
    }
  },
  "cells": [
    {
      "cell_type": "markdown",
      "metadata": {
        "id": "view-in-github",
        "colab_type": "text"
      },
      "source": [
        "<a href=\"https://colab.research.google.com/github/amritigupta/GoogleWE_Python/blob/main/sumofevenpos.ipynb\" target=\"_parent\"><img src=\"https://colab.research.google.com/assets/colab-badge.svg\" alt=\"Open In Colab\"/></a>"
      ]
    },
    {
      "cell_type": "markdown",
      "source": [
        "sum of even positioned prime numbers in a list"
      ],
      "metadata": {
        "id": "cb0P8kQMFxsM"
      }
    },
    {
      "cell_type": "code",
      "execution_count": 3,
      "metadata": {
        "colab": {
          "base_uri": "https://localhost:8080/"
        },
        "id": "jjaeI7CZFDA4",
        "outputId": "b7ee33f7-60f3-4e0a-f323-e2f7a19e5df8"
      },
      "outputs": [
        {
          "output_type": "execute_result",
          "data": {
            "text/plain": [
              "9"
            ]
          },
          "metadata": {},
          "execution_count": 3
        }
      ],
      "source": [
        "def finalsum(l):\n",
        "    if (type(l)==list):\n",
        "            sum=0\n",
        "            for i in range(len(l)):\n",
        "                if (i%2!=0):\n",
        "                    if (checkprime(l[i])):\n",
        "                        sum+=l[i]\n",
        "            return sum\n",
        "def checkprime(n):\n",
        "    if n<2:\n",
        "        return False\n",
        "    else:\n",
        "        for i in range(2,n//2+1):\n",
        "            if((n%i)==0):\n",
        "                return False\n",
        "    return True\n",
        "\n",
        "finalsum([1,2,4,7])"
      ]
    }
  ]
}