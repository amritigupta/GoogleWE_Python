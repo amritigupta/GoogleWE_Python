{
  "nbformat": 4,
  "nbformat_minor": 0,
  "metadata": {
    "colab": {
      "name": "rotateastringby13positions.ipynb",
      "provenance": [],
      "authorship_tag": "ABX9TyNIdIccXqHt1FLjr6+licGI",
      "include_colab_link": true
    },
    "kernelspec": {
      "name": "python3",
      "display_name": "Python 3"
    },
    "language_info": {
      "name": "python"
    }
  },
  "cells": [
    {
      "cell_type": "markdown",
      "metadata": {
        "id": "view-in-github",
        "colab_type": "text"
      },
      "source": [
        "<a href=\"https://colab.research.google.com/github/amritigupta/GoogleWE_Python/blob/main/rotateastringby13positions.ipynb\" target=\"_parent\"><img src=\"https://colab.research.google.com/assets/colab-badge.svg\" alt=\"Open In Colab\"/></a>"
      ]
    },
    {
      "cell_type": "markdown",
      "source": [
        "rotate a string by n positions"
      ],
      "metadata": {
        "id": "OoNOfDPsCf4F"
      }
    },
    {
      "cell_type": "code",
      "execution_count": 3,
      "metadata": {
        "colab": {
          "base_uri": "https://localhost:8080/",
          "height": 35
        },
        "id": "81sGIBARs7X_",
        "outputId": "47a861cd-10c6-4b4c-b4c5-4cdb30791543"
      },
      "outputs": [
        {
          "output_type": "execute_result",
          "data": {
            "text/plain": [
              "'gnyrag fcevag'"
            ],
            "application/vnd.google.colaboratory.intrinsic+json": {
              "type": "string"
            }
          },
          "metadata": {},
          "execution_count": 3
        }
      ],
      "source": [
        "def rot(s: str):\n",
        "    newword=\"\"\n",
        "    for ch in s:\n",
        "        newword+=func2(ch)\n",
        "    return newword\n",
        "\n",
        "def func2(ch):\n",
        "    letters=\"abcdefghijklmnopqrstuvwxyzabcdefghijklm\"\n",
        "    position=letters.find(ch)\n",
        "    if position==-1:\n",
        "        return ch\n",
        "    else:\n",
        "        return letters[position+13]\n",
        "\n",
        "rot(\"talent sprint\")"
      ]
    }
  ]
}