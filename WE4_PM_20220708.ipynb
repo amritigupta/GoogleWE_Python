{
  "nbformat": 4,
  "nbformat_minor": 0,
  "metadata": {
    "colab": {
      "name": "WE4-PM-20220708.ipynb",
      "private_outputs": true,
      "provenance": [],
      "include_colab_link": true
    },
    "kernelspec": {
      "name": "python3",
      "display_name": "Python 3"
    },
    "language_info": {
      "name": "python"
    }
  },
  "cells": [
    {
      "cell_type": "markdown",
      "metadata": {
        "id": "view-in-github",
        "colab_type": "text"
      },
      "source": [
        "<a href=\"https://colab.research.google.com/github/amritigupta/GoogleWE_Python/blob/main/WE4_PM_20220708.ipynb\" target=\"_parent\"><img src=\"https://colab.research.google.com/assets/colab-badge.svg\" alt=\"Open In Colab\"/></a>"
      ]
    },
    {
      "cell_type": "code",
      "execution_count": null,
      "metadata": {
        "id": "luyzyW4XF6Sx"
      },
      "outputs": [],
      "source": [
        "STAR = '*'\n",
        "CRLF = '\\n'\n",
        "WIDTH = 40"
      ]
    },
    {
      "cell_type": "code",
      "source": [
        "def make_pattern(size: int) -> list:\n",
        "    return [STAR for i in range(size)]\n",
        "\n",
        "def format_pyramid(size: int) -> str:\n",
        "    return CRLF.join(make_pattern(size))"
      ],
      "metadata": {
        "id": "wp9CQ-cpHm2J"
      },
      "execution_count": null,
      "outputs": []
    },
    {
      "cell_type": "code",
      "source": [
        "print(format_pyramid(7))"
      ],
      "metadata": {
        "id": "6g7oUHPeIDms"
      },
      "execution_count": null,
      "outputs": []
    },
    {
      "cell_type": "code",
      "source": [
        "def make_pattern(size: int) -> list:\n",
        "    return [STAR * i for i in range(size)]"
      ],
      "metadata": {
        "id": "LGGzMj8AIGd0"
      },
      "execution_count": null,
      "outputs": []
    },
    {
      "cell_type": "code",
      "source": [
        "print(format_pyramid(7))"
      ],
      "metadata": {
        "id": "FLs_iDunIUFT"
      },
      "execution_count": null,
      "outputs": []
    },
    {
      "cell_type": "code",
      "source": [
        "def make_pattern(size: int) -> list:\n",
        "    return [STAR * (2 * i + 1) for i in range(size)]"
      ],
      "metadata": {
        "id": "KGu8QxsYIXSf"
      },
      "execution_count": null,
      "outputs": []
    },
    {
      "cell_type": "code",
      "source": [
        "print(format_pyramid(7))"
      ],
      "metadata": {
        "id": "nmiAoY0OIerP"
      },
      "execution_count": null,
      "outputs": []
    },
    {
      "cell_type": "code",
      "source": [
        "def format_pyramid(size: int) -> str:\n",
        "    return CRLF.join([line.center(WIDTH) for line in make_pattern(size)])"
      ],
      "metadata": {
        "id": "WyC55Y99Igqi"
      },
      "execution_count": null,
      "outputs": []
    },
    {
      "cell_type": "code",
      "source": [
        "print(format_pyramid(7))"
      ],
      "metadata": {
        "id": "9YHc5d86Iyii"
      },
      "execution_count": null,
      "outputs": []
    },
    {
      "cell_type": "code",
      "source": [
        "!python --version"
      ],
      "metadata": {
        "id": "a2AhEL7rI0lu"
      },
      "execution_count": null,
      "outputs": []
    },
    {
      "cell_type": "code",
      "source": [
        "def make_pattern(size: int) -> list:\n",
        "    return [line(i) for i in range(size)]\n",
        "\n",
        "def line(line_num: int) -> str:\n",
        "    return (2 * line_num + 1) * STAR\n",
        "\n",
        "def format_pyramid(size: int) -> str:\n",
        "    return CRLF.join([line.center(WIDTH) for line in make_pattern(size)])"
      ],
      "metadata": {
        "id": "Gms66rq1Jpdy"
      },
      "execution_count": null,
      "outputs": []
    },
    {
      "cell_type": "code",
      "source": [
        "print(format_pyramid(7))"
      ],
      "metadata": {
        "id": "UaVAliJYLLuD"
      },
      "execution_count": null,
      "outputs": []
    },
    {
      "cell_type": "code",
      "source": [
        "STAR, SPACE = '*', \" \"\n",
        "CRLF = '\\n'\n",
        "WIDTH = 40\n",
        "\n",
        "START, MIDDLE, END = STAR, SPACE + STAR, ''\n",
        "\n",
        "def make_pattern(size: int) -> list:\n",
        "    return [line(i) for i in range(size)]\n",
        "\n",
        "def line(line_num: int) -> str:\n",
        "    return line_start(line_num) + line_middle(line_num) + line_end(line_num)\n",
        "\n",
        "def line_start(n: int) -> str:\n",
        "    return START\n",
        "\n",
        "def line_middle(n: int) -> str:\n",
        "    return n * MIDDLE\n",
        "\n",
        "def line_end(n: int) -> str:\n",
        "    return END\n",
        "\n",
        "def format_pyramid(size: int) -> str:\n",
        "    return CRLF.join([line.center(WIDTH) for line in make_pattern(size)])"
      ],
      "metadata": {
        "id": "YubSbXB3LREE"
      },
      "execution_count": null,
      "outputs": []
    },
    {
      "cell_type": "markdown",
      "source": [
        ""
      ],
      "metadata": {
        "id": "39gJ2g2nOX5D"
      }
    },
    {
      "cell_type": "code",
      "source": [
        "print(format_pyramid(7))"
      ],
      "metadata": {
        "id": "BKnDaU_DMFsG"
      },
      "execution_count": null,
      "outputs": []
    },
    {
      "cell_type": "code",
      "source": [
        "def format_triangle(size: int) -> str:\n",
        "    return CRLF.join(make_pattern(size))"
      ],
      "metadata": {
        "id": "ENlMBnRBMKS3"
      },
      "execution_count": null,
      "outputs": []
    },
    {
      "cell_type": "code",
      "source": [
        "print(format_triangle(5))"
      ],
      "metadata": {
        "id": "1te_uTdcNSlq"
      },
      "execution_count": null,
      "outputs": []
    },
    {
      "cell_type": "code",
      "source": [
        "def format_right_triangle(size: int) -> str:\n",
        "    return CRLF.join([line.rjust(WIDTH) for line in make_pattern(size)])"
      ],
      "metadata": {
        "id": "gkhFNYBNNWmt"
      },
      "execution_count": null,
      "outputs": []
    },
    {
      "cell_type": "code",
      "source": [
        "print(format_right_triangle(5))"
      ],
      "metadata": {
        "id": "7nm-IVffNmoO"
      },
      "execution_count": null,
      "outputs": []
    },
    {
      "cell_type": "code",
      "source": [
        "def format_diamond(size: int) -> str:\n",
        "    top = make_pattern(size)\n",
        "    diamond = top + top[::-1][1:]\n",
        "    return CRLF.join([line.center(WIDTH) for line in diamond])"
      ],
      "metadata": {
        "id": "5gSHo_vTNte9"
      },
      "execution_count": null,
      "outputs": []
    },
    {
      "cell_type": "code",
      "source": [
        "print(format_diamond(5))"
      ],
      "metadata": {
        "id": "8SLoUzovNp0a"
      },
      "execution_count": null,
      "outputs": []
    },
    {
      "cell_type": "code",
      "source": [
        "def format_arrow(size: int) -> str:\n",
        "    top = make_pattern(size)\n",
        "    arrow = top + top[::-1][1:]\n",
        "    return CRLF.join(arrow)"
      ],
      "metadata": {
        "id": "DpHB_XlKOJ9A"
      },
      "execution_count": null,
      "outputs": []
    },
    {
      "cell_type": "code",
      "source": [
        "print(format_arrow(7))"
      ],
      "metadata": {
        "id": "DnLAEo80OzG6"
      },
      "execution_count": null,
      "outputs": []
    },
    {
      "cell_type": "code",
      "source": [
        "s = '''\n",
        "    #\n",
        "   #+#\n",
        "  #+++#\n",
        " #+++++#'''"
      ],
      "metadata": {
        "id": "9NmpLWuWO2IF"
      },
      "execution_count": null,
      "outputs": []
    },
    {
      "cell_type": "code",
      "source": [
        "print(s)"
      ],
      "metadata": {
        "id": "eGZieDP3Q8Nq"
      },
      "execution_count": null,
      "outputs": []
    },
    {
      "cell_type": "code",
      "source": [
        "START = '#'\n",
        "MIDDLE = '++'\n",
        "END = '\\b#'"
      ],
      "metadata": {
        "id": "SgqXgi0nQ9Ue"
      },
      "execution_count": null,
      "outputs": []
    },
    {
      "cell_type": "code",
      "source": [
        "print(format_pyramid(6))"
      ],
      "metadata": {
        "id": "PRb7CuyJUvqS"
      },
      "execution_count": null,
      "outputs": []
    },
    {
      "cell_type": "code",
      "source": [
        "t = '''\n",
        "  1\n",
        "  2  3\n",
        "  4  5  6\n",
        "  7  8  9 10\n",
        " 11 12 13 14 15''' "
      ],
      "metadata": {
        "id": "2UYv85n_U0ic"
      },
      "execution_count": null,
      "outputs": []
    },
    {
      "cell_type": "code",
      "source": [
        "print(t)"
      ],
      "metadata": {
        "id": "dMNW-rqvV2Qi"
      },
      "execution_count": null,
      "outputs": []
    },
    {
      "cell_type": "code",
      "source": [
        ""
      ],
      "metadata": {
        "id": "drEr8hhnV3r8"
      },
      "execution_count": null,
      "outputs": []
    }
  ]
}