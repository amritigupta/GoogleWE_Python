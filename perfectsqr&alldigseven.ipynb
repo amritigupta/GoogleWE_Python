{
  "nbformat": 4,
  "nbformat_minor": 0,
  "metadata": {
    "colab": {
      "name": "perfectsqr&alldigseven.ipynb",
      "provenance": [],
      "authorship_tag": "ABX9TyN8d7wjK90oLdGiYXrw428u",
      "include_colab_link": true
    },
    "kernelspec": {
      "name": "python3",
      "display_name": "Python 3"
    },
    "language_info": {
      "name": "python"
    }
  },
  "cells": [
    {
      "cell_type": "markdown",
      "metadata": {
        "id": "view-in-github",
        "colab_type": "text"
      },
      "source": [
        "<a href=\"https://colab.research.google.com/github/amritigupta/GoogleWE_Python/blob/main/perfectsqr%26alldigseven.ipynb\" target=\"_parent\"><img src=\"https://colab.research.google.com/assets/colab-badge.svg\" alt=\"Open In Colab\"/></a>"
      ]
    },
    {
      "cell_type": "markdown",
      "source": [
        "Generate all four digits numbers that are perfect squares and have all their digits even."
      ],
      "metadata": {
        "id": "9nKXpuiIooKo"
      }
    },
    {
      "cell_type": "code",
      "execution_count": 26,
      "metadata": {
        "colab": {
          "base_uri": "https://localhost:8080/"
        },
        "id": "ShpOWO23oVyU",
        "outputId": "4ba2b2fd-6908-42ed-fc15-46678c1777a1"
      },
      "outputs": [
        {
          "output_type": "stream",
          "name": "stdout",
          "text": [
            "[4624, 6084, 6400, 8464]\n"
          ]
        }
      ],
      "source": [
        "def isperfsqr(n):\n",
        "    if int(n**(0.5))==(n**(0.5)):\n",
        "        return True\n",
        "    return False\n",
        "\n",
        "def alleven(n):\n",
        "    while n>0:\n",
        "        if (((n%10)%2)!=0 ):\n",
        "            return False\n",
        "        n=n//10\n",
        "    return True\n",
        "\n",
        "def answer():\n",
        "    result=[]\n",
        "    for i in range(1000,10000):\n",
        "        if (alleven(i) and isperfsqr(i)):\n",
        "            result.append(i)\n",
        "    return result\n",
        "print(answer())"
      ]
    }
  ]
}