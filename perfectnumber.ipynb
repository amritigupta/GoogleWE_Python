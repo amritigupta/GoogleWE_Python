{
  "nbformat": 4,
  "nbformat_minor": 0,
  "metadata": {
    "colab": {
      "name": "perfectnumber.ipynb",
      "provenance": [],
      "authorship_tag": "ABX9TyPDUul7rKZKVmejN63hL3un",
      "include_colab_link": true
    },
    "kernelspec": {
      "name": "python3",
      "display_name": "Python 3"
    },
    "language_info": {
      "name": "python"
    }
  },
  "cells": [
    {
      "cell_type": "markdown",
      "metadata": {
        "id": "view-in-github",
        "colab_type": "text"
      },
      "source": [
        "<a href=\"https://colab.research.google.com/github/amritigupta/GoogleWE_Python/blob/main/perfectnumber.ipynb\" target=\"_parent\"><img src=\"https://colab.research.google.com/assets/colab-badge.svg\" alt=\"Open In Colab\"/></a>"
      ]
    },
    {
      "cell_type": "markdown",
      "source": [
        "perfect number is a number that is equal to sum of all its positive divisors excluding the number itself\n",
        "\n",
        "print all such nos in a list (range is 1 to n)"
      ],
      "metadata": {
        "id": "c02LelJIHJcw"
      }
    },
    {
      "cell_type": "code",
      "execution_count": 2,
      "metadata": {
        "colab": {
          "base_uri": "https://localhost:8080/"
        },
        "id": "k8bOs3MpHBmD",
        "outputId": "c97568f7-69eb-4108-ec4b-def8db44080c"
      },
      "outputs": [
        {
          "output_type": "execute_result",
          "data": {
            "text/plain": [
              "[6, 28]"
            ]
          },
          "metadata": {},
          "execution_count": 2
        }
      ],
      "source": [
        "def finallist(n):\n",
        "    l=[]\n",
        "    for i in range(1,n+1):\n",
        "        if (i==checkdivisorsum(i)):\n",
        "            l.append(i)\n",
        "    return l\n",
        "\n",
        "def checkdivisorsum(n):\n",
        "    sum=0\n",
        "    for i in range(1,n):\n",
        "        if (n%i==0):\n",
        "            sum+=i\n",
        "    return sum\n",
        "\n",
        "finallist(100)"
      ]
    }
  ]
}